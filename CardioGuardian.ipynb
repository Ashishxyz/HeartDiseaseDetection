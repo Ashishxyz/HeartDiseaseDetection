{
  "cells": [
    {
      "cell_type": "markdown",
      "metadata": {
        "id": "view-in-github",
        "colab_type": "text"
      },
      "source": [
        "<a href=\"https://colab.research.google.com/github/Ashishxyz/HeartDiseaseDetection/blob/main/CardioGuardian.ipynb\" target=\"_parent\"><img src=\"https://colab.research.google.com/assets/colab-badge.svg\" alt=\"Open In Colab\"/></a>"
      ]
    },
    {
      "cell_type": "markdown",
      "source": [
        "#**Extracting Dataset using API from kaggle**"
      ],
      "metadata": {
        "id": "DE-8jgKJyE-8"
      },
      "id": "DE-8jgKJyE-8"
    },
    {
      "cell_type": "code",
      "source": [
        "!mkdir -p ~/.kaggle\n",
        "!cp kaggle.json ~/.kaggle/"
      ],
      "metadata": {
        "id": "uKcbtFEMwOVT"
      },
      "id": "uKcbtFEMwOVT",
      "execution_count": null,
      "outputs": []
    },
    {
      "cell_type": "code",
      "source": [
        "!kaggle datasets download -d johnsmith88/heart-disease-dataset"
      ],
      "metadata": {
        "colab": {
          "base_uri": "https://localhost:8080/"
        },
        "id": "_dly-jUewPGu",
        "outputId": "6eecb683-1256-4a8f-b988-1fc09a2cbadc"
      },
      "id": "_dly-jUewPGu",
      "execution_count": null,
      "outputs": [
        {
          "output_type": "stream",
          "name": "stdout",
          "text": [
            "Warning: Your Kaggle API key is readable by other users on this system! To fix this, you can run 'chmod 600 /root/.kaggle/kaggle.json'\n",
            "Dataset URL: https://www.kaggle.com/datasets/johnsmith88/heart-disease-dataset\n",
            "License(s): unknown\n",
            "heart-disease-dataset.zip: Skipping, found more recently modified local copy (use --force to force download)\n"
          ]
        }
      ]
    },
    {
      "cell_type": "code",
      "source": [
        "import zipfile\n",
        "zip_ref = zipfile.ZipFile('/content/heart-disease-dataset.zip', 'r')\n",
        "zip_ref.extractall('/content')\n",
        "zip_ref.close()"
      ],
      "metadata": {
        "id": "g3icvGiYwQ-5"
      },
      "id": "g3icvGiYwQ-5",
      "execution_count": null,
      "outputs": []
    },
    {
      "cell_type": "markdown",
      "source": [
        "#**Importing Libraries**"
      ],
      "metadata": {
        "id": "b2itTZZoyXBj"
      },
      "id": "b2itTZZoyXBj"
    },
    {
      "cell_type": "code",
      "execution_count": null,
      "id": "d0aab085",
      "metadata": {
        "execution": {
          "iopub.execute_input": "2024-05-30T10:29:06.609266Z",
          "iopub.status.busy": "2024-05-30T10:29:06.608736Z",
          "iopub.status.idle": "2024-05-30T10:29:08.430315Z",
          "shell.execute_reply": "2024-05-30T10:29:08.429004Z"
        },
        "papermill": {
          "duration": 1.833163,
          "end_time": "2024-05-30T10:29:08.432911",
          "exception": false,
          "start_time": "2024-05-30T10:29:06.599748",
          "status": "completed"
        },
        "tags": [],
        "id": "d0aab085"
      },
      "outputs": [],
      "source": [
        "import pandas as pd  # Importing pandas for data processing and CSV file I/O operations\n",
        "import numpy as np  # Importing numpy for linear algebra operations\n",
        "import matplotlib.pyplot as plt  # Importing matplotlib for plotting and visualization\n",
        "from sklearn.model_selection import train_test_split  # Importing train_test_split for splitting data into training and testing sets\n",
        "from sklearn.tree import DecisionTreeClassifier  # Importing DecisionTreeClassifier for decision tree classification\n",
        "from sklearn.ensemble import RandomForestClassifier  # Importing RandomForestClassifier for random forest classification\n",
        "from sklearn.metrics import accuracy_score  # Importing accuracy_score for evaluating model accuracy\n",
        "from xgboost import XGBClassifier  # Importing XGBClassifier for XGBoost classification"
      ]
    },
    {
      "cell_type": "markdown",
      "source": [
        "#**Preprocessing**"
      ],
      "metadata": {
        "id": "90F8KsPbykaP"
      },
      "id": "90F8KsPbykaP"
    },
    {
      "cell_type": "code",
      "execution_count": null,
      "id": "2ab04b51",
      "metadata": {
        "execution": {
          "iopub.execute_input": "2024-05-30T10:29:08.449544Z",
          "iopub.status.busy": "2024-05-30T10:29:08.449149Z",
          "iopub.status.idle": "2024-05-30T10:29:08.471558Z",
          "shell.execute_reply": "2024-05-30T10:29:08.470430Z"
        },
        "papermill": {
          "duration": 0.03366,
          "end_time": "2024-05-30T10:29:08.474154",
          "exception": false,
          "start_time": "2024-05-30T10:29:08.440494",
          "status": "completed"
        },
        "tags": [],
        "id": "2ab04b51"
      },
      "outputs": [],
      "source": [
        "df = pd.read_csv('/content/heart.csv')\n",
        "# Reading the dataset from a CSV file into a pandas DataFrame"
      ]
    },
    {
      "cell_type": "code",
      "execution_count": null,
      "id": "84452c03",
      "metadata": {
        "execution": {
          "iopub.execute_input": "2024-05-30T10:29:08.490744Z",
          "iopub.status.busy": "2024-05-30T10:29:08.489981Z",
          "iopub.status.idle": "2024-05-30T10:29:08.538682Z",
          "shell.execute_reply": "2024-05-30T10:29:08.537639Z"
        },
        "papermill": {
          "duration": 0.059806,
          "end_time": "2024-05-30T10:29:08.541403",
          "exception": false,
          "start_time": "2024-05-30T10:29:08.481597",
          "status": "completed"
        },
        "tags": [],
        "colab": {
          "base_uri": "https://localhost:8080/",
          "height": 444
        },
        "id": "84452c03",
        "outputId": "a9238eae-c6cf-481b-ff0f-d24d8cf76a33"
      },
      "outputs": [
        {
          "output_type": "execute_result",
          "data": {
            "text/plain": [
              "      age  trestbps  chol  fbs  thalach  oldpeak  ca  thal  target  sex_0  \\\n",
              "0      52       125   212    0      168      1.0   2     3       0  False   \n",
              "1      53       140   203    1      155      3.1   0     3       0  False   \n",
              "2      70       145   174    0      125      2.6   0     3       0  False   \n",
              "3      61       148   203    0      161      0.0   1     3       0  False   \n",
              "4      62       138   294    1      106      1.9   3     2       0   True   \n",
              "...   ...       ...   ...  ...      ...      ...  ..   ...     ...    ...   \n",
              "1020   59       140   221    0      164      0.0   0     2       1  False   \n",
              "1021   60       125   258    0      141      2.8   1     3       0  False   \n",
              "1022   47       110   275    0      118      1.0   1     2       0  False   \n",
              "1023   50       110   254    0      159      0.0   0     2       1   True   \n",
              "1024   54       120   188    0      113      1.4   1     3       0  False   \n",
              "\n",
              "      ...   cp_2   cp_3  restecg_0  restecg_1  restecg_2  exang_0  exang_1  \\\n",
              "0     ...  False  False      False       True      False     True    False   \n",
              "1     ...  False  False       True      False      False    False     True   \n",
              "2     ...  False  False      False       True      False    False     True   \n",
              "3     ...  False  False      False       True      False     True    False   \n",
              "4     ...  False  False      False       True      False     True    False   \n",
              "...   ...    ...    ...        ...        ...        ...      ...      ...   \n",
              "1020  ...  False  False      False       True      False    False     True   \n",
              "1021  ...  False  False       True      False      False    False     True   \n",
              "1022  ...  False  False       True      False      False    False     True   \n",
              "1023  ...  False  False       True      False      False     True    False   \n",
              "1024  ...  False  False      False       True      False     True    False   \n",
              "\n",
              "      slope_0  slope_1  slope_2  \n",
              "0       False    False     True  \n",
              "1        True    False    False  \n",
              "2        True    False    False  \n",
              "3       False    False     True  \n",
              "4       False     True    False  \n",
              "...       ...      ...      ...  \n",
              "1020    False    False     True  \n",
              "1021    False     True    False  \n",
              "1022    False     True    False  \n",
              "1023    False    False     True  \n",
              "1024    False     True    False  \n",
              "\n",
              "[1025 rows x 23 columns]"
            ],
            "text/html": [
              "\n",
              "  <div id=\"df-56e8e27d-a576-4c13-85d1-91e89f127339\" class=\"colab-df-container\">\n",
              "    <div>\n",
              "<style scoped>\n",
              "    .dataframe tbody tr th:only-of-type {\n",
              "        vertical-align: middle;\n",
              "    }\n",
              "\n",
              "    .dataframe tbody tr th {\n",
              "        vertical-align: top;\n",
              "    }\n",
              "\n",
              "    .dataframe thead th {\n",
              "        text-align: right;\n",
              "    }\n",
              "</style>\n",
              "<table border=\"1\" class=\"dataframe\">\n",
              "  <thead>\n",
              "    <tr style=\"text-align: right;\">\n",
              "      <th></th>\n",
              "      <th>age</th>\n",
              "      <th>trestbps</th>\n",
              "      <th>chol</th>\n",
              "      <th>fbs</th>\n",
              "      <th>thalach</th>\n",
              "      <th>oldpeak</th>\n",
              "      <th>ca</th>\n",
              "      <th>thal</th>\n",
              "      <th>target</th>\n",
              "      <th>sex_0</th>\n",
              "      <th>...</th>\n",
              "      <th>cp_2</th>\n",
              "      <th>cp_3</th>\n",
              "      <th>restecg_0</th>\n",
              "      <th>restecg_1</th>\n",
              "      <th>restecg_2</th>\n",
              "      <th>exang_0</th>\n",
              "      <th>exang_1</th>\n",
              "      <th>slope_0</th>\n",
              "      <th>slope_1</th>\n",
              "      <th>slope_2</th>\n",
              "    </tr>\n",
              "  </thead>\n",
              "  <tbody>\n",
              "    <tr>\n",
              "      <th>0</th>\n",
              "      <td>52</td>\n",
              "      <td>125</td>\n",
              "      <td>212</td>\n",
              "      <td>0</td>\n",
              "      <td>168</td>\n",
              "      <td>1.0</td>\n",
              "      <td>2</td>\n",
              "      <td>3</td>\n",
              "      <td>0</td>\n",
              "      <td>False</td>\n",
              "      <td>...</td>\n",
              "      <td>False</td>\n",
              "      <td>False</td>\n",
              "      <td>False</td>\n",
              "      <td>True</td>\n",
              "      <td>False</td>\n",
              "      <td>True</td>\n",
              "      <td>False</td>\n",
              "      <td>False</td>\n",
              "      <td>False</td>\n",
              "      <td>True</td>\n",
              "    </tr>\n",
              "    <tr>\n",
              "      <th>1</th>\n",
              "      <td>53</td>\n",
              "      <td>140</td>\n",
              "      <td>203</td>\n",
              "      <td>1</td>\n",
              "      <td>155</td>\n",
              "      <td>3.1</td>\n",
              "      <td>0</td>\n",
              "      <td>3</td>\n",
              "      <td>0</td>\n",
              "      <td>False</td>\n",
              "      <td>...</td>\n",
              "      <td>False</td>\n",
              "      <td>False</td>\n",
              "      <td>True</td>\n",
              "      <td>False</td>\n",
              "      <td>False</td>\n",
              "      <td>False</td>\n",
              "      <td>True</td>\n",
              "      <td>True</td>\n",
              "      <td>False</td>\n",
              "      <td>False</td>\n",
              "    </tr>\n",
              "    <tr>\n",
              "      <th>2</th>\n",
              "      <td>70</td>\n",
              "      <td>145</td>\n",
              "      <td>174</td>\n",
              "      <td>0</td>\n",
              "      <td>125</td>\n",
              "      <td>2.6</td>\n",
              "      <td>0</td>\n",
              "      <td>3</td>\n",
              "      <td>0</td>\n",
              "      <td>False</td>\n",
              "      <td>...</td>\n",
              "      <td>False</td>\n",
              "      <td>False</td>\n",
              "      <td>False</td>\n",
              "      <td>True</td>\n",
              "      <td>False</td>\n",
              "      <td>False</td>\n",
              "      <td>True</td>\n",
              "      <td>True</td>\n",
              "      <td>False</td>\n",
              "      <td>False</td>\n",
              "    </tr>\n",
              "    <tr>\n",
              "      <th>3</th>\n",
              "      <td>61</td>\n",
              "      <td>148</td>\n",
              "      <td>203</td>\n",
              "      <td>0</td>\n",
              "      <td>161</td>\n",
              "      <td>0.0</td>\n",
              "      <td>1</td>\n",
              "      <td>3</td>\n",
              "      <td>0</td>\n",
              "      <td>False</td>\n",
              "      <td>...</td>\n",
              "      <td>False</td>\n",
              "      <td>False</td>\n",
              "      <td>False</td>\n",
              "      <td>True</td>\n",
              "      <td>False</td>\n",
              "      <td>True</td>\n",
              "      <td>False</td>\n",
              "      <td>False</td>\n",
              "      <td>False</td>\n",
              "      <td>True</td>\n",
              "    </tr>\n",
              "    <tr>\n",
              "      <th>4</th>\n",
              "      <td>62</td>\n",
              "      <td>138</td>\n",
              "      <td>294</td>\n",
              "      <td>1</td>\n",
              "      <td>106</td>\n",
              "      <td>1.9</td>\n",
              "      <td>3</td>\n",
              "      <td>2</td>\n",
              "      <td>0</td>\n",
              "      <td>True</td>\n",
              "      <td>...</td>\n",
              "      <td>False</td>\n",
              "      <td>False</td>\n",
              "      <td>False</td>\n",
              "      <td>True</td>\n",
              "      <td>False</td>\n",
              "      <td>True</td>\n",
              "      <td>False</td>\n",
              "      <td>False</td>\n",
              "      <td>True</td>\n",
              "      <td>False</td>\n",
              "    </tr>\n",
              "    <tr>\n",
              "      <th>...</th>\n",
              "      <td>...</td>\n",
              "      <td>...</td>\n",
              "      <td>...</td>\n",
              "      <td>...</td>\n",
              "      <td>...</td>\n",
              "      <td>...</td>\n",
              "      <td>...</td>\n",
              "      <td>...</td>\n",
              "      <td>...</td>\n",
              "      <td>...</td>\n",
              "      <td>...</td>\n",
              "      <td>...</td>\n",
              "      <td>...</td>\n",
              "      <td>...</td>\n",
              "      <td>...</td>\n",
              "      <td>...</td>\n",
              "      <td>...</td>\n",
              "      <td>...</td>\n",
              "      <td>...</td>\n",
              "      <td>...</td>\n",
              "      <td>...</td>\n",
              "    </tr>\n",
              "    <tr>\n",
              "      <th>1020</th>\n",
              "      <td>59</td>\n",
              "      <td>140</td>\n",
              "      <td>221</td>\n",
              "      <td>0</td>\n",
              "      <td>164</td>\n",
              "      <td>0.0</td>\n",
              "      <td>0</td>\n",
              "      <td>2</td>\n",
              "      <td>1</td>\n",
              "      <td>False</td>\n",
              "      <td>...</td>\n",
              "      <td>False</td>\n",
              "      <td>False</td>\n",
              "      <td>False</td>\n",
              "      <td>True</td>\n",
              "      <td>False</td>\n",
              "      <td>False</td>\n",
              "      <td>True</td>\n",
              "      <td>False</td>\n",
              "      <td>False</td>\n",
              "      <td>True</td>\n",
              "    </tr>\n",
              "    <tr>\n",
              "      <th>1021</th>\n",
              "      <td>60</td>\n",
              "      <td>125</td>\n",
              "      <td>258</td>\n",
              "      <td>0</td>\n",
              "      <td>141</td>\n",
              "      <td>2.8</td>\n",
              "      <td>1</td>\n",
              "      <td>3</td>\n",
              "      <td>0</td>\n",
              "      <td>False</td>\n",
              "      <td>...</td>\n",
              "      <td>False</td>\n",
              "      <td>False</td>\n",
              "      <td>True</td>\n",
              "      <td>False</td>\n",
              "      <td>False</td>\n",
              "      <td>False</td>\n",
              "      <td>True</td>\n",
              "      <td>False</td>\n",
              "      <td>True</td>\n",
              "      <td>False</td>\n",
              "    </tr>\n",
              "    <tr>\n",
              "      <th>1022</th>\n",
              "      <td>47</td>\n",
              "      <td>110</td>\n",
              "      <td>275</td>\n",
              "      <td>0</td>\n",
              "      <td>118</td>\n",
              "      <td>1.0</td>\n",
              "      <td>1</td>\n",
              "      <td>2</td>\n",
              "      <td>0</td>\n",
              "      <td>False</td>\n",
              "      <td>...</td>\n",
              "      <td>False</td>\n",
              "      <td>False</td>\n",
              "      <td>True</td>\n",
              "      <td>False</td>\n",
              "      <td>False</td>\n",
              "      <td>False</td>\n",
              "      <td>True</td>\n",
              "      <td>False</td>\n",
              "      <td>True</td>\n",
              "      <td>False</td>\n",
              "    </tr>\n",
              "    <tr>\n",
              "      <th>1023</th>\n",
              "      <td>50</td>\n",
              "      <td>110</td>\n",
              "      <td>254</td>\n",
              "      <td>0</td>\n",
              "      <td>159</td>\n",
              "      <td>0.0</td>\n",
              "      <td>0</td>\n",
              "      <td>2</td>\n",
              "      <td>1</td>\n",
              "      <td>True</td>\n",
              "      <td>...</td>\n",
              "      <td>False</td>\n",
              "      <td>False</td>\n",
              "      <td>True</td>\n",
              "      <td>False</td>\n",
              "      <td>False</td>\n",
              "      <td>True</td>\n",
              "      <td>False</td>\n",
              "      <td>False</td>\n",
              "      <td>False</td>\n",
              "      <td>True</td>\n",
              "    </tr>\n",
              "    <tr>\n",
              "      <th>1024</th>\n",
              "      <td>54</td>\n",
              "      <td>120</td>\n",
              "      <td>188</td>\n",
              "      <td>0</td>\n",
              "      <td>113</td>\n",
              "      <td>1.4</td>\n",
              "      <td>1</td>\n",
              "      <td>3</td>\n",
              "      <td>0</td>\n",
              "      <td>False</td>\n",
              "      <td>...</td>\n",
              "      <td>False</td>\n",
              "      <td>False</td>\n",
              "      <td>False</td>\n",
              "      <td>True</td>\n",
              "      <td>False</td>\n",
              "      <td>True</td>\n",
              "      <td>False</td>\n",
              "      <td>False</td>\n",
              "      <td>True</td>\n",
              "      <td>False</td>\n",
              "    </tr>\n",
              "  </tbody>\n",
              "</table>\n",
              "<p>1025 rows × 23 columns</p>\n",
              "</div>\n",
              "    <div class=\"colab-df-buttons\">\n",
              "\n",
              "  <div class=\"colab-df-container\">\n",
              "    <button class=\"colab-df-convert\" onclick=\"convertToInteractive('df-56e8e27d-a576-4c13-85d1-91e89f127339')\"\n",
              "            title=\"Convert this dataframe to an interactive table.\"\n",
              "            style=\"display:none;\">\n",
              "\n",
              "  <svg xmlns=\"http://www.w3.org/2000/svg\" height=\"24px\" viewBox=\"0 -960 960 960\">\n",
              "    <path d=\"M120-120v-720h720v720H120Zm60-500h600v-160H180v160Zm220 220h160v-160H400v160Zm0 220h160v-160H400v160ZM180-400h160v-160H180v160Zm440 0h160v-160H620v160ZM180-180h160v-160H180v160Zm440 0h160v-160H620v160Z\"/>\n",
              "  </svg>\n",
              "    </button>\n",
              "\n",
              "  <style>\n",
              "    .colab-df-container {\n",
              "      display:flex;\n",
              "      gap: 12px;\n",
              "    }\n",
              "\n",
              "    .colab-df-convert {\n",
              "      background-color: #E8F0FE;\n",
              "      border: none;\n",
              "      border-radius: 50%;\n",
              "      cursor: pointer;\n",
              "      display: none;\n",
              "      fill: #1967D2;\n",
              "      height: 32px;\n",
              "      padding: 0 0 0 0;\n",
              "      width: 32px;\n",
              "    }\n",
              "\n",
              "    .colab-df-convert:hover {\n",
              "      background-color: #E2EBFA;\n",
              "      box-shadow: 0px 1px 2px rgba(60, 64, 67, 0.3), 0px 1px 3px 1px rgba(60, 64, 67, 0.15);\n",
              "      fill: #174EA6;\n",
              "    }\n",
              "\n",
              "    .colab-df-buttons div {\n",
              "      margin-bottom: 4px;\n",
              "    }\n",
              "\n",
              "    [theme=dark] .colab-df-convert {\n",
              "      background-color: #3B4455;\n",
              "      fill: #D2E3FC;\n",
              "    }\n",
              "\n",
              "    [theme=dark] .colab-df-convert:hover {\n",
              "      background-color: #434B5C;\n",
              "      box-shadow: 0px 1px 3px 1px rgba(0, 0, 0, 0.15);\n",
              "      filter: drop-shadow(0px 1px 2px rgba(0, 0, 0, 0.3));\n",
              "      fill: #FFFFFF;\n",
              "    }\n",
              "  </style>\n",
              "\n",
              "    <script>\n",
              "      const buttonEl =\n",
              "        document.querySelector('#df-56e8e27d-a576-4c13-85d1-91e89f127339 button.colab-df-convert');\n",
              "      buttonEl.style.display =\n",
              "        google.colab.kernel.accessAllowed ? 'block' : 'none';\n",
              "\n",
              "      async function convertToInteractive(key) {\n",
              "        const element = document.querySelector('#df-56e8e27d-a576-4c13-85d1-91e89f127339');\n",
              "        const dataTable =\n",
              "          await google.colab.kernel.invokeFunction('convertToInteractive',\n",
              "                                                    [key], {});\n",
              "        if (!dataTable) return;\n",
              "\n",
              "        const docLinkHtml = 'Like what you see? Visit the ' +\n",
              "          '<a target=\"_blank\" href=https://colab.research.google.com/notebooks/data_table.ipynb>data table notebook</a>'\n",
              "          + ' to learn more about interactive tables.';\n",
              "        element.innerHTML = '';\n",
              "        dataTable['output_type'] = 'display_data';\n",
              "        await google.colab.output.renderOutput(dataTable, element);\n",
              "        const docLink = document.createElement('div');\n",
              "        docLink.innerHTML = docLinkHtml;\n",
              "        element.appendChild(docLink);\n",
              "      }\n",
              "    </script>\n",
              "  </div>\n",
              "\n",
              "\n",
              "<div id=\"df-141d7e80-d522-4592-a3a2-0e5eefa8e3c8\">\n",
              "  <button class=\"colab-df-quickchart\" onclick=\"quickchart('df-141d7e80-d522-4592-a3a2-0e5eefa8e3c8')\"\n",
              "            title=\"Suggest charts\"\n",
              "            style=\"display:none;\">\n",
              "\n",
              "<svg xmlns=\"http://www.w3.org/2000/svg\" height=\"24px\"viewBox=\"0 0 24 24\"\n",
              "     width=\"24px\">\n",
              "    <g>\n",
              "        <path d=\"M19 3H5c-1.1 0-2 .9-2 2v14c0 1.1.9 2 2 2h14c1.1 0 2-.9 2-2V5c0-1.1-.9-2-2-2zM9 17H7v-7h2v7zm4 0h-2V7h2v10zm4 0h-2v-4h2v4z\"/>\n",
              "    </g>\n",
              "</svg>\n",
              "  </button>\n",
              "\n",
              "<style>\n",
              "  .colab-df-quickchart {\n",
              "      --bg-color: #E8F0FE;\n",
              "      --fill-color: #1967D2;\n",
              "      --hover-bg-color: #E2EBFA;\n",
              "      --hover-fill-color: #174EA6;\n",
              "      --disabled-fill-color: #AAA;\n",
              "      --disabled-bg-color: #DDD;\n",
              "  }\n",
              "\n",
              "  [theme=dark] .colab-df-quickchart {\n",
              "      --bg-color: #3B4455;\n",
              "      --fill-color: #D2E3FC;\n",
              "      --hover-bg-color: #434B5C;\n",
              "      --hover-fill-color: #FFFFFF;\n",
              "      --disabled-bg-color: #3B4455;\n",
              "      --disabled-fill-color: #666;\n",
              "  }\n",
              "\n",
              "  .colab-df-quickchart {\n",
              "    background-color: var(--bg-color);\n",
              "    border: none;\n",
              "    border-radius: 50%;\n",
              "    cursor: pointer;\n",
              "    display: none;\n",
              "    fill: var(--fill-color);\n",
              "    height: 32px;\n",
              "    padding: 0;\n",
              "    width: 32px;\n",
              "  }\n",
              "\n",
              "  .colab-df-quickchart:hover {\n",
              "    background-color: var(--hover-bg-color);\n",
              "    box-shadow: 0 1px 2px rgba(60, 64, 67, 0.3), 0 1px 3px 1px rgba(60, 64, 67, 0.15);\n",
              "    fill: var(--button-hover-fill-color);\n",
              "  }\n",
              "\n",
              "  .colab-df-quickchart-complete:disabled,\n",
              "  .colab-df-quickchart-complete:disabled:hover {\n",
              "    background-color: var(--disabled-bg-color);\n",
              "    fill: var(--disabled-fill-color);\n",
              "    box-shadow: none;\n",
              "  }\n",
              "\n",
              "  .colab-df-spinner {\n",
              "    border: 2px solid var(--fill-color);\n",
              "    border-color: transparent;\n",
              "    border-bottom-color: var(--fill-color);\n",
              "    animation:\n",
              "      spin 1s steps(1) infinite;\n",
              "  }\n",
              "\n",
              "  @keyframes spin {\n",
              "    0% {\n",
              "      border-color: transparent;\n",
              "      border-bottom-color: var(--fill-color);\n",
              "      border-left-color: var(--fill-color);\n",
              "    }\n",
              "    20% {\n",
              "      border-color: transparent;\n",
              "      border-left-color: var(--fill-color);\n",
              "      border-top-color: var(--fill-color);\n",
              "    }\n",
              "    30% {\n",
              "      border-color: transparent;\n",
              "      border-left-color: var(--fill-color);\n",
              "      border-top-color: var(--fill-color);\n",
              "      border-right-color: var(--fill-color);\n",
              "    }\n",
              "    40% {\n",
              "      border-color: transparent;\n",
              "      border-right-color: var(--fill-color);\n",
              "      border-top-color: var(--fill-color);\n",
              "    }\n",
              "    60% {\n",
              "      border-color: transparent;\n",
              "      border-right-color: var(--fill-color);\n",
              "    }\n",
              "    80% {\n",
              "      border-color: transparent;\n",
              "      border-right-color: var(--fill-color);\n",
              "      border-bottom-color: var(--fill-color);\n",
              "    }\n",
              "    90% {\n",
              "      border-color: transparent;\n",
              "      border-bottom-color: var(--fill-color);\n",
              "    }\n",
              "  }\n",
              "</style>\n",
              "\n",
              "  <script>\n",
              "    async function quickchart(key) {\n",
              "      const quickchartButtonEl =\n",
              "        document.querySelector('#' + key + ' button');\n",
              "      quickchartButtonEl.disabled = true;  // To prevent multiple clicks.\n",
              "      quickchartButtonEl.classList.add('colab-df-spinner');\n",
              "      try {\n",
              "        const charts = await google.colab.kernel.invokeFunction(\n",
              "            'suggestCharts', [key], {});\n",
              "      } catch (error) {\n",
              "        console.error('Error during call to suggestCharts:', error);\n",
              "      }\n",
              "      quickchartButtonEl.classList.remove('colab-df-spinner');\n",
              "      quickchartButtonEl.classList.add('colab-df-quickchart-complete');\n",
              "    }\n",
              "    (() => {\n",
              "      let quickchartButtonEl =\n",
              "        document.querySelector('#df-141d7e80-d522-4592-a3a2-0e5eefa8e3c8 button');\n",
              "      quickchartButtonEl.style.display =\n",
              "        google.colab.kernel.accessAllowed ? 'block' : 'none';\n",
              "    })();\n",
              "  </script>\n",
              "</div>\n",
              "\n",
              "  <div id=\"id_fd78e173-b41c-4c5f-a48a-d736138fd819\">\n",
              "    <style>\n",
              "      .colab-df-generate {\n",
              "        background-color: #E8F0FE;\n",
              "        border: none;\n",
              "        border-radius: 50%;\n",
              "        cursor: pointer;\n",
              "        display: none;\n",
              "        fill: #1967D2;\n",
              "        height: 32px;\n",
              "        padding: 0 0 0 0;\n",
              "        width: 32px;\n",
              "      }\n",
              "\n",
              "      .colab-df-generate:hover {\n",
              "        background-color: #E2EBFA;\n",
              "        box-shadow: 0px 1px 2px rgba(60, 64, 67, 0.3), 0px 1px 3px 1px rgba(60, 64, 67, 0.15);\n",
              "        fill: #174EA6;\n",
              "      }\n",
              "\n",
              "      [theme=dark] .colab-df-generate {\n",
              "        background-color: #3B4455;\n",
              "        fill: #D2E3FC;\n",
              "      }\n",
              "\n",
              "      [theme=dark] .colab-df-generate:hover {\n",
              "        background-color: #434B5C;\n",
              "        box-shadow: 0px 1px 3px 1px rgba(0, 0, 0, 0.15);\n",
              "        filter: drop-shadow(0px 1px 2px rgba(0, 0, 0, 0.3));\n",
              "        fill: #FFFFFF;\n",
              "      }\n",
              "    </style>\n",
              "    <button class=\"colab-df-generate\" onclick=\"generateWithVariable('df')\"\n",
              "            title=\"Generate code using this dataframe.\"\n",
              "            style=\"display:none;\">\n",
              "\n",
              "  <svg xmlns=\"http://www.w3.org/2000/svg\" height=\"24px\"viewBox=\"0 0 24 24\"\n",
              "       width=\"24px\">\n",
              "    <path d=\"M7,19H8.4L18.45,9,17,7.55,7,17.6ZM5,21V16.75L18.45,3.32a2,2,0,0,1,2.83,0l1.4,1.43a1.91,1.91,0,0,1,.58,1.4,1.91,1.91,0,0,1-.58,1.4L9.25,21ZM18.45,9,17,7.55Zm-12,3A5.31,5.31,0,0,0,4.9,8.1,5.31,5.31,0,0,0,1,6.5,5.31,5.31,0,0,0,4.9,4.9,5.31,5.31,0,0,0,6.5,1,5.31,5.31,0,0,0,8.1,4.9,5.31,5.31,0,0,0,12,6.5,5.46,5.46,0,0,0,6.5,12Z\"/>\n",
              "  </svg>\n",
              "    </button>\n",
              "    <script>\n",
              "      (() => {\n",
              "      const buttonEl =\n",
              "        document.querySelector('#id_fd78e173-b41c-4c5f-a48a-d736138fd819 button.colab-df-generate');\n",
              "      buttonEl.style.display =\n",
              "        google.colab.kernel.accessAllowed ? 'block' : 'none';\n",
              "\n",
              "      buttonEl.onclick = () => {\n",
              "        google.colab.notebook.generateWithVariable('df');\n",
              "      }\n",
              "      })();\n",
              "    </script>\n",
              "  </div>\n",
              "\n",
              "    </div>\n",
              "  </div>\n"
            ],
            "application/vnd.google.colaboratory.intrinsic+json": {
              "type": "dataframe",
              "variable_name": "df"
            }
          },
          "metadata": {},
          "execution_count": 6
        }
      ],
      "source": [
        "# One hot encoding for categorical variables\n",
        "variables = ['sex', 'cp', 'restecg', 'exang', 'slope']\n",
        "\n",
        "# Applying one hot encoding to the specified categorical columns\n",
        "df = pd.get_dummies(data=df, prefix=variables, columns=variables)\n",
        "df  # Display the DataFrame after encoding"
      ]
    },
    {
      "cell_type": "code",
      "execution_count": null,
      "id": "5193e809",
      "metadata": {
        "execution": {
          "iopub.execute_input": "2024-05-30T10:29:08.559158Z",
          "iopub.status.busy": "2024-05-30T10:29:08.558214Z",
          "iopub.status.idle": "2024-05-30T10:29:08.565089Z",
          "shell.execute_reply": "2024-05-30T10:29:08.564076Z"
        },
        "papermill": {
          "duration": 0.017895,
          "end_time": "2024-05-30T10:29:08.567223",
          "exception": false,
          "start_time": "2024-05-30T10:29:08.549328",
          "status": "completed"
        },
        "tags": [],
        "colab": {
          "base_uri": "https://localhost:8080/"
        },
        "id": "5193e809",
        "outputId": "8ca6147e-fe72-4e9f-9b3e-d3bba1549a53"
      },
      "outputs": [
        {
          "output_type": "execute_result",
          "data": {
            "text/plain": [
              "22"
            ]
          },
          "metadata": {},
          "execution_count": 7
        }
      ],
      "source": [
        "# Extracting feature column names, excluding the target column\n",
        "features = [x for x in df.columns if x != 'target']\n",
        "\n",
        "# Getting the number of feature columns\n",
        "len(features)"
      ]
    },
    {
      "cell_type": "code",
      "execution_count": null,
      "id": "65d2e7fd",
      "metadata": {
        "execution": {
          "iopub.execute_input": "2024-05-30T10:29:08.584555Z",
          "iopub.status.busy": "2024-05-30T10:29:08.584199Z",
          "iopub.status.idle": "2024-05-30T10:29:08.594737Z",
          "shell.execute_reply": "2024-05-30T10:29:08.593816Z"
        },
        "papermill": {
          "duration": 0.021986,
          "end_time": "2024-05-30T10:29:08.597218",
          "exception": false,
          "start_time": "2024-05-30T10:29:08.575232",
          "status": "completed"
        },
        "tags": [],
        "id": "65d2e7fd"
      },
      "outputs": [],
      "source": [
        "# Splitting the data into training and validation sets\n",
        "# 80% of the data is used for training, and 20% is used for validation\n",
        "x_train, x_val, y_train, y_val = train_test_split(df[features], df['target'], train_size=0.8, random_state=55)"
      ]
    },
    {
      "cell_type": "code",
      "execution_count": null,
      "id": "e7005c81",
      "metadata": {
        "execution": {
          "iopub.execute_input": "2024-05-30T10:29:08.615752Z",
          "iopub.status.busy": "2024-05-30T10:29:08.615366Z",
          "iopub.status.idle": "2024-05-30T10:29:08.621262Z",
          "shell.execute_reply": "2024-05-30T10:29:08.620183Z"
        },
        "papermill": {
          "duration": 0.017674,
          "end_time": "2024-05-30T10:29:08.623939",
          "exception": false,
          "start_time": "2024-05-30T10:29:08.606265",
          "status": "completed"
        },
        "tags": [],
        "colab": {
          "base_uri": "https://localhost:8080/"
        },
        "id": "e7005c81",
        "outputId": "33afc2a7-c65e-44fe-99f8-7b7c5d431a0b"
      },
      "outputs": [
        {
          "output_type": "stream",
          "name": "stdout",
          "text": [
            "Number of Train Samples: 820\n",
            "Number of Validation Samples: 205\n",
            "Target Proportion: 0.5110\n"
          ]
        }
      ],
      "source": [
        "# Printing the number of training samples\n",
        "print(f\"Number of Train Samples: {len(x_train)}\")\n",
        "\n",
        "# Printing the number of validation samples\n",
        "print(f\"Number of Validation Samples: {len(x_val)}\")\n",
        "\n",
        "# Printing the proportion of the target variable in the training set\n",
        "print(f\"Target Proportion: {sum(y_train)/len(y_train):.4f}\")"
      ]
    },
    {
      "cell_type": "markdown",
      "id": "b6302829",
      "metadata": {
        "papermill": {
          "duration": 0.007755,
          "end_time": "2024-05-30T10:29:08.655229",
          "exception": false,
          "start_time": "2024-05-30T10:29:08.647474",
          "status": "completed"
        },
        "tags": [],
        "id": "b6302829"
      },
      "source": [
        "##**Building Model**"
      ]
    },
    {
      "cell_type": "markdown",
      "source": [
        "##Decision Tree"
      ],
      "metadata": {
        "id": "WSGT6kZC0bIt"
      },
      "id": "WSGT6kZC0bIt"
    },
    {
      "cell_type": "code",
      "execution_count": null,
      "id": "8f15b1da",
      "metadata": {
        "execution": {
          "iopub.execute_input": "2024-05-30T10:29:08.672530Z",
          "iopub.status.busy": "2024-05-30T10:29:08.672175Z",
          "iopub.status.idle": "2024-05-30T10:29:08.676821Z",
          "shell.execute_reply": "2024-05-30T10:29:08.675824Z"
        },
        "papermill": {
          "duration": 0.016121,
          "end_time": "2024-05-30T10:29:08.679197",
          "exception": false,
          "start_time": "2024-05-30T10:29:08.663076",
          "status": "completed"
        },
        "tags": [],
        "id": "8f15b1da"
      },
      "outputs": [],
      "source": [
        "# Defining a list of different values for the minimum number of samples required to split an internal node\n",
        "samples_split_list = [2, 10, 30, 50, 100, 200, 300, 700]"
      ]
    },
    {
      "cell_type": "code",
      "execution_count": null,
      "id": "347534da",
      "metadata": {
        "execution": {
          "iopub.execute_input": "2024-05-30T10:29:08.697354Z",
          "iopub.status.busy": "2024-05-30T10:29:08.696960Z",
          "iopub.status.idle": "2024-05-30T10:29:08.786038Z",
          "shell.execute_reply": "2024-05-30T10:29:08.784812Z"
        },
        "papermill": {
          "duration": 0.101106,
          "end_time": "2024-05-30T10:29:08.788710",
          "exception": false,
          "start_time": "2024-05-30T10:29:08.687604",
          "status": "completed"
        },
        "tags": [],
        "id": "347534da"
      },
      "outputs": [],
      "source": [
        "# Initializing empty lists to store accuracy scores for training and validation sets\n",
        "accuracy_list_train = []\n",
        "accuracy_list_val = []\n",
        "\n",
        "# Iterating over each value of min_samples_split in samples_split_list\n",
        "for min_samples in samples_split_list:\n",
        "    # Creating a Decision Tree Classifier with the current min_samples_split value\n",
        "    model = DecisionTreeClassifier(min_samples_split=min_samples, random_state=55).fit(x_train, y_train)\n",
        "\n",
        "    # Making predictions on the training and validation sets\n",
        "    prediction_train = model.predict(x_train)\n",
        "    prediction_val = model.predict(x_val)\n",
        "\n",
        "    # Calculating accuracy scores for the training and validation sets\n",
        "    accuracy_train = accuracy_score(prediction_train, y_train)\n",
        "    accuracy_val = accuracy_score(prediction_val, y_val)\n",
        "\n",
        "    # Appending accuracy scores to the respective lists\n",
        "    accuracy_list_train.append(accuracy_train)\n",
        "    accuracy_list_val.append(accuracy_val)"
      ]
    },
    {
      "cell_type": "code",
      "execution_count": null,
      "id": "88f8811c",
      "metadata": {
        "execution": {
          "iopub.execute_input": "2024-05-30T10:29:08.807409Z",
          "iopub.status.busy": "2024-05-30T10:29:08.806513Z",
          "iopub.status.idle": "2024-05-30T10:29:09.151156Z",
          "shell.execute_reply": "2024-05-30T10:29:09.150070Z"
        },
        "papermill": {
          "duration": 0.356603,
          "end_time": "2024-05-30T10:29:09.153458",
          "exception": false,
          "start_time": "2024-05-30T10:29:08.796855",
          "status": "completed"
        },
        "tags": [],
        "colab": {
          "base_uri": "https://localhost:8080/",
          "height": 489
        },
        "id": "88f8811c",
        "outputId": "950c90bc-fb13-41a7-ed69-2bef8fdb53fb"
      },
      "outputs": [
        {
          "output_type": "execute_result",
          "data": {
            "text/plain": [
              "<matplotlib.legend.Legend at 0x7ed2735f2410>"
            ]
          },
          "metadata": {},
          "execution_count": 12
        },
        {
          "output_type": "display_data",
          "data": {
            "text/plain": [
              "<Figure size 640x480 with 1 Axes>"
            ],
            "image/png": "[encoded data removed]"
          },
          "metadata": {}
        }
      ],
      "source": [
        "import matplotlib.pyplot as plt  # Importing matplotlib for plotting\n",
        "\n",
        "# Setting up the plot\n",
        "plt.title(\"Train x validation metrics\")  # Setting the title of the plot\n",
        "plt.xlabel('samples split')  # Setting the label for the x-axis\n",
        "plt.ylabel('accuracy')  # Setting the label for the y-axis\n",
        "\n",
        "# Setting custom ticks on the x-axis with labels\n",
        "plt.xticks(ticks=range(len(samples_split_list)), labels=samples_split_list)\n",
        "\n",
        "# Plotting the accuracy scores for training and validation sets\n",
        "plt.plot(accuracy_list_train)  # Plotting accuracy scores for the training set\n",
        "plt.plot(accuracy_list_val)  # Plotting accuracy scores for the validation set\n",
        "\n",
        "# Adding a legend to distinguish between the training and validation curves\n",
        "plt.legend(['Train', 'Validation'])"
      ]
    },
    {
      "cell_type": "code",
      "execution_count": null,
      "id": "36d9217e",
      "metadata": {
        "execution": {
          "iopub.execute_input": "2024-05-30T10:29:09.189992Z",
          "iopub.status.busy": "2024-05-30T10:29:09.188968Z",
          "iopub.status.idle": "2024-05-30T10:29:09.194879Z",
          "shell.execute_reply": "2024-05-30T10:29:09.193573Z"
        },
        "papermill": {
          "duration": 0.018284,
          "end_time": "2024-05-30T10:29:09.197286",
          "exception": false,
          "start_time": "2024-05-30T10:29:09.179002",
          "status": "completed"
        },
        "tags": [],
        "id": "36d9217e"
      },
      "outputs": [],
      "source": [
        "# List of different values for the maximum depth of the decision tree\n",
        "max_depth_list = [1, 2, 3, 4, 8, 16, 32, 64, None]"
      ]
    },
    {
      "cell_type": "code",
      "execution_count": null,
      "id": "5c3e1887",
      "metadata": {
        "execution": {
          "iopub.execute_input": "2024-05-30T10:29:09.216359Z",
          "iopub.status.busy": "2024-05-30T10:29:09.215943Z",
          "iopub.status.idle": "2024-05-30T10:29:09.307594Z",
          "shell.execute_reply": "2024-05-30T10:29:09.306585Z"
        },
        "papermill": {
          "duration": 0.104074,
          "end_time": "2024-05-30T10:29:09.310127",
          "exception": false,
          "start_time": "2024-05-30T10:29:09.206053",
          "status": "completed"
        },
        "tags": [],
        "id": "5c3e1887"
      },
      "outputs": [],
      "source": [
        "# Initializing empty lists to store accuracy scores for training and validation sets\n",
        "accuracy_list_train = []\n",
        "accuracy_list_val = []\n",
        "\n",
        "# Iterating over each value of max_depth in max_depth_list\n",
        "for depth in max_depth_list:\n",
        "    # Creating a Decision Tree Classifier with the current max_depth value\n",
        "    model = DecisionTreeClassifier(max_depth=depth, random_state=55).fit(x_train, y_train)\n",
        "\n",
        "    # Making predictions on the training and validation sets\n",
        "    prediction_train = model.predict(x_train)\n",
        "    prediction_val = model.predict(x_val)\n",
        "\n",
        "    # Calculating accuracy scores for the training and validation sets\n",
        "    accuracy_train = accuracy_score(prediction_train, y_train)\n",
        "    accuracy_val = accuracy_score(prediction_val, y_val)\n",
        "\n",
        "    # Appending accuracy scores to the respective lists\n",
        "    accuracy_list_train.append(accuracy_train)\n",
        "    accuracy_list_val.append(accuracy_val)"
      ]
    },
    {
      "cell_type": "code",
      "execution_count": null,
      "id": "c7f1d2d5",
      "metadata": {
        "execution": {
          "iopub.execute_input": "2024-05-30T10:29:09.329060Z",
          "iopub.status.busy": "2024-05-30T10:29:09.328659Z",
          "iopub.status.idle": "2024-05-30T10:29:09.644354Z",
          "shell.execute_reply": "2024-05-30T10:29:09.643080Z"
        },
        "papermill": {
          "duration": 0.328182,
          "end_time": "2024-05-30T10:29:09.646937",
          "exception": false,
          "start_time": "2024-05-30T10:29:09.318755",
          "status": "completed"
        },
        "tags": [],
        "colab": {
          "base_uri": "https://localhost:8080/",
          "height": 489
        },
        "id": "c7f1d2d5",
        "outputId": "20b5e7ad-d42c-4896-9a5c-d0b6ecad9eaa"
      },
      "outputs": [
        {
          "output_type": "execute_result",
          "data": {
            "text/plain": [
              "<matplotlib.legend.Legend at 0x7ed27357f8b0>"
            ]
          },
          "metadata": {},
          "execution_count": 15
        },
        {
          "output_type": "display_data",
          "data": {
            "text/plain": [
              "<Figure size 640x480 with 1 Axes>"
            ],
            "image/png": "[encoded data removed]"
          },
          "metadata": {}
        }
      ],
      "source": [
        "import matplotlib.pyplot as plt  # Importing matplotlib for plotting\n",
        "\n",
        "# Setting up the plot\n",
        "plt.title(\"Train x validation metrics\")  # Setting the title of the plot\n",
        "plt.xlabel('max depth')  # Setting the label for the x-axis\n",
        "plt.ylabel('accuracy')  # Setting the label for the y-axis\n",
        "\n",
        "# Setting custom ticks on the x-axis with labels\n",
        "plt.xticks(ticks=range(len(max_depth_list)), labels=max_depth_list)\n",
        "\n",
        "# Plotting the accuracy scores for training and validation sets\n",
        "plt.plot(accuracy_list_train)  # Plotting accuracy scores for the training set\n",
        "plt.plot(accuracy_list_val)  # Plotting accuracy scores for the validation set\n",
        "\n",
        "# Adding a legend to distinguish between the training and validation curves\n",
        "plt.legend(['Train', 'Validation'])"
      ]
    },
    {
      "cell_type": "markdown",
      "id": "d61efd8f",
      "metadata": {
        "papermill": {
          "duration": 0.009266,
          "end_time": "2024-05-30T10:29:09.665776",
          "exception": false,
          "start_time": "2024-05-30T10:29:09.656510",
          "status": "completed"
        },
        "tags": [],
        "id": "d61efd8f"
      },
      "source": [
        "### min_split = 30\n",
        "### max_depth= 8"
      ]
    },
    {
      "cell_type": "markdown",
      "source": [
        "## Random Forest"
      ],
      "metadata": {
        "id": "mkWLZkRL1n8L"
      },
      "id": "mkWLZkRL1n8L"
    },
    {
      "cell_type": "code",
      "execution_count": null,
      "id": "584552b1",
      "metadata": {
        "execution": {
          "iopub.execute_input": "2024-05-30T10:29:09.686765Z",
          "iopub.status.busy": "2024-05-30T10:29:09.685902Z",
          "iopub.status.idle": "2024-05-30T10:29:09.691333Z",
          "shell.execute_reply": "2024-05-30T10:29:09.690236Z"
        },
        "papermill": {
          "duration": 0.018233,
          "end_time": "2024-05-30T10:29:09.693368",
          "exception": false,
          "start_time": "2024-05-30T10:29:09.675135",
          "status": "completed"
        },
        "tags": [],
        "id": "584552b1"
      },
      "outputs": [],
      "source": [
        "# Define lists for min_samples_split and max_depth\n",
        "min_samples_split_list = [2, 10, 30, 50, 100, 200, 300, 700]\n",
        "max_depth_list = [2, 4, 8, 16, 32, 64, None]"
      ]
    },
    {
      "cell_type": "code",
      "execution_count": null,
      "id": "e46e03ad",
      "metadata": {
        "execution": {
          "iopub.execute_input": "2024-05-30T10:29:09.713951Z",
          "iopub.status.busy": "2024-05-30T10:29:09.713555Z",
          "iopub.status.idle": "2024-05-30T10:29:11.442771Z",
          "shell.execute_reply": "2024-05-30T10:29:11.441632Z"
        },
        "papermill": {
          "duration": 1.742596,
          "end_time": "2024-05-30T10:29:11.445428",
          "exception": false,
          "start_time": "2024-05-30T10:29:09.702832",
          "status": "completed"
        },
        "tags": [],
        "id": "e46e03ad"
      },
      "outputs": [],
      "source": [
        "# Initialize empty lists to store accuracy scores for training and validation sets\n",
        "accuracy_list_train = []\n",
        "accuracy_list_val = []\n",
        "\n",
        "# Loop over each value of min_samples_split in min_samples_split_list\n",
        "for min_samples in min_samples_split_list:\n",
        "    # Create a RandomForestClassifier with the current min_samples_split value\n",
        "    model = RandomForestClassifier(min_samples_split=min_samples, random_state=55).fit(x_train, y_train)\n",
        "\n",
        "    # Make predictions on the training and validation sets\n",
        "    prediction_train = model.predict(x_train)\n",
        "    prediction_val = model.predict(x_val)\n",
        "\n",
        "    # Calculate accuracy scores for the training and validation sets\n",
        "    accuracy_train = accuracy_score(prediction_train, y_train)\n",
        "    accuracy_val = accuracy_score(prediction_val, y_val)\n",
        "\n",
        "    # Append accuracy scores to the respective lists\n",
        "    accuracy_list_train.append(accuracy_train)\n",
        "    accuracy_list_val.append(accuracy_val)"
      ]
    },
    {
      "cell_type": "code",
      "execution_count": null,
      "id": "5135d0ea",
      "metadata": {
        "execution": {
          "iopub.execute_input": "2024-05-30T10:29:11.466805Z",
          "iopub.status.busy": "2024-05-30T10:29:11.466419Z",
          "iopub.status.idle": "2024-05-30T10:29:11.786041Z",
          "shell.execute_reply": "2024-05-30T10:29:11.784992Z"
        },
        "papermill": {
          "duration": 0.333364,
          "end_time": "2024-05-30T10:29:11.788546",
          "exception": false,
          "start_time": "2024-05-30T10:29:11.455182",
          "status": "completed"
        },
        "tags": [],
        "colab": {
          "base_uri": "https://localhost:8080/",
          "height": 489
        },
        "id": "5135d0ea",
        "outputId": "58a51cec-c168-41bf-da72-3989c05eb3e5"
      },
      "outputs": [
        {
          "output_type": "execute_result",
          "data": {
            "text/plain": [
              "<matplotlib.legend.Legend at 0x7ed2d0989990>"
            ]
          },
          "metadata": {},
          "execution_count": 18
        },
        {
          "output_type": "display_data",
          "data": {
            "text/plain": [
              "<Figure size 640x480 with 1 Axes>"
            ],
            "image/png": "[encoded data removed]"
          },
          "metadata": {}
        }
      ],
      "source": [
        "import matplotlib.pyplot as plt  # Importing matplotlib for plotting\n",
        "\n",
        "# Setting up the plot\n",
        "plt.title('Train x Validation metrics')  # Setting the title of the plot\n",
        "plt.xlabel('min_samples_split')  # Setting the label for the x-axis\n",
        "plt.ylabel('accuracy')  # Setting the label for the y-axis\n",
        "\n",
        "# Setting custom ticks on the x-axis with labels\n",
        "plt.xticks(ticks=range(len(min_samples_split_list)), labels=min_samples_split_list)\n",
        "\n",
        "# Plotting the accuracy scores for training and validation sets\n",
        "plt.plot(accuracy_list_train)  # Plotting accuracy scores for the training set\n",
        "plt.plot(accuracy_list_val)  # Plotting accuracy scores for the validation set\n",
        "\n",
        "# Adding a legend to distinguish between the training and validation curves\n",
        "plt.legend(['Train', 'Validation'])"
      ]
    },
    {
      "cell_type": "markdown",
      "id": "dc3e8467",
      "metadata": {
        "papermill": {
          "duration": 0.009947,
          "end_time": "2024-05-30T10:29:11.808554",
          "exception": false,
          "start_time": "2024-05-30T10:29:11.798607",
          "status": "completed"
        },
        "tags": [],
        "id": "dc3e8467"
      },
      "source": [
        "### min_samples_split = 10"
      ]
    },
    {
      "cell_type": "code",
      "execution_count": null,
      "id": "1d088511",
      "metadata": {
        "execution": {
          "iopub.execute_input": "2024-05-30T10:29:11.830672Z",
          "iopub.status.busy": "2024-05-30T10:29:11.830287Z",
          "iopub.status.idle": "2024-05-30T10:29:13.492358Z",
          "shell.execute_reply": "2024-05-30T10:29:13.491335Z"
        },
        "papermill": {
          "duration": 1.676341,
          "end_time": "2024-05-30T10:29:13.494961",
          "exception": false,
          "start_time": "2024-05-30T10:29:11.818620",
          "status": "completed"
        },
        "tags": [],
        "id": "1d088511"
      },
      "outputs": [],
      "source": [
        "from sklearn.ensemble import RandomForestClassifier  # Importing RandomForestClassifier from sklearn.ensemble\n",
        "\n",
        "# Initialize empty lists to store accuracy scores for training and validation sets\n",
        "accuracy_list_train = []\n",
        "accuracy_list_val = []\n",
        "\n",
        "# Loop over each value of max_depth in max_depth_list\n",
        "for max_depth in max_depth_list:\n",
        "    # Create a RandomForestClassifier with the current max_depth value\n",
        "    model = RandomForestClassifier(max_depth=max_depth, random_state=55).fit(x_train, y_train)\n",
        "\n",
        "    # Make predictions on the training and validation sets\n",
        "    prediction_train = model.predict(x_train)\n",
        "    prediction_val = model.predict(x_val)\n",
        "\n",
        "    # Calculate accuracy scores for the training and validation sets\n",
        "    accuracy_train = accuracy_score(prediction_train, y_train)\n",
        "    accuracy_val = accuracy_score(prediction_val, y_val)\n",
        "\n",
        "    # Append accuracy scores to the respective lists\n",
        "    accuracy_list_train.append(accuracy_train)\n",
        "    accuracy_list_val.append(accuracy_val)"
      ]
    },
    {
      "cell_type": "code",
      "execution_count": null,
      "id": "fb42901b",
      "metadata": {
        "execution": {
          "iopub.execute_input": "2024-05-30T10:29:13.517215Z",
          "iopub.status.busy": "2024-05-30T10:29:13.516830Z",
          "iopub.status.idle": "2024-05-30T10:29:13.847595Z",
          "shell.execute_reply": "2024-05-30T10:29:13.846515Z"
        },
        "papermill": {
          "duration": 0.344439,
          "end_time": "2024-05-30T10:29:13.849964",
          "exception": false,
          "start_time": "2024-05-30T10:29:13.505525",
          "status": "completed"
        },
        "tags": [],
        "colab": {
          "base_uri": "https://localhost:8080/",
          "height": 489
        },
        "id": "fb42901b",
        "outputId": "0de90f21-9996-4889-a521-f439c582745e"
      },
      "outputs": [
        {
          "output_type": "execute_result",
          "data": {
            "text/plain": [
              "<matplotlib.legend.Legend at 0x7ed2d09fe7a0>"
            ]
          },
          "metadata": {},
          "execution_count": 20
        },
        {
          "output_type": "display_data",
          "data": {
            "text/plain": [
              "<Figure size 640x480 with 1 Axes>"
            ],
            "image/png": "[encoded data removed]"
          },
          "metadata": {}
        }
      ],
      "source": [
        "import matplotlib.pyplot as plt  # Importing matplotlib for plotting\n",
        "\n",
        "# Setting up the plot\n",
        "plt.title('Train x Validation metrics')  # Setting the title of the plot\n",
        "plt.xlabel('max_depth')  # Setting the label for the x-axis\n",
        "plt.ylabel('accuracy')  # Setting the label for the y-axis\n",
        "\n",
        "# Setting custom ticks on the x-axis with labels\n",
        "plt.xticks(ticks=range(len(max_depth_list)), labels=max_depth_list)\n",
        "\n",
        "# Plotting the accuracy scores for training and validation sets\n",
        "plt.plot(accuracy_list_train)  # Plotting accuracy scores for the training set\n",
        "plt.plot(accuracy_list_val)  # Plotting accuracy scores for the validation set\n",
        "\n",
        "# Adding a legend to distinguish between the training and validation curves\n",
        "plt.legend(['Train', 'Validation'])"
      ]
    },
    {
      "cell_type": "code",
      "execution_count": null,
      "id": "97dd4c81",
      "metadata": {
        "execution": {
          "iopub.execute_input": "2024-05-30T10:29:13.874497Z",
          "iopub.status.busy": "2024-05-30T10:29:13.873246Z",
          "iopub.status.idle": "2024-05-30T10:29:14.941423Z",
          "shell.execute_reply": "2024-05-30T10:29:14.940289Z"
        },
        "papermill": {
          "duration": 1.083683,
          "end_time": "2024-05-30T10:29:14.944519",
          "exception": false,
          "start_time": "2024-05-30T10:29:13.860836",
          "status": "completed"
        },
        "tags": [],
        "id": "97dd4c81"
      },
      "outputs": [],
      "source": [
        "from sklearn.ensemble import RandomForestClassifier  # Importing RandomForestClassifier from sklearn.ensemble\n",
        "\n",
        "# Creating a RandomForestClassifier model with specified parameters\n",
        "random_forest_model = RandomForestClassifier(n_estimators=500, max_depth=16, min_samples_split=10).fit(x_train, y_train)"
      ]
    },
    {
      "cell_type": "code",
      "execution_count": null,
      "id": "a0b3ce7b",
      "metadata": {
        "execution": {
          "iopub.execute_input": "2024-05-30T10:29:14.972619Z",
          "iopub.status.busy": "2024-05-30T10:29:14.972223Z",
          "iopub.status.idle": "2024-05-30T10:29:15.090420Z",
          "shell.execute_reply": "2024-05-30T10:29:15.088874Z"
        },
        "papermill": {
          "duration": 0.133362,
          "end_time": "2024-05-30T10:29:15.092665",
          "exception": false,
          "start_time": "2024-05-30T10:29:14.959303",
          "status": "completed"
        },
        "tags": [],
        "colab": {
          "base_uri": "https://localhost:8080/"
        },
        "id": "a0b3ce7b",
        "outputId": "d8c0c63b-c7ae-4e89-f4c2-0057e8a54a7f"
      },
      "outputs": [
        {
          "output_type": "stream",
          "name": "stdout",
          "text": [
            "Matrices train: 0.9963\n",
            "Metrices test: 0.9756\n"
          ]
        }
      ],
      "source": [
        "# Printing the accuracy score on the training set\n",
        "print(f\"Matrices train: {accuracy_score(random_forest_model.predict(x_train), y_train):.4f}\")\n",
        "\n",
        "# Printing the accuracy score on the validation set\n",
        "print(f\"Metrices test: {accuracy_score(random_forest_model.predict(x_val), y_val):.4f}\")"
      ]
    },
    {
      "cell_type": "markdown",
      "id": "8ba2423b",
      "metadata": {
        "papermill": {
          "duration": 0.010708,
          "end_time": "2024-05-30T10:29:15.114265",
          "exception": false,
          "start_time": "2024-05-30T10:29:15.103557",
          "status": "completed"
        },
        "tags": [],
        "id": "8ba2423b"
      },
      "source": [
        "## XG Boost"
      ]
    },
    {
      "cell_type": "code",
      "execution_count": null,
      "id": "18b186ac",
      "metadata": {
        "execution": {
          "iopub.execute_input": "2024-05-30T10:29:15.140192Z",
          "iopub.status.busy": "2024-05-30T10:29:15.139092Z",
          "iopub.status.idle": "2024-05-30T10:29:15.145337Z",
          "shell.execute_reply": "2024-05-30T10:29:15.144174Z"
        },
        "papermill": {
          "duration": 0.022342,
          "end_time": "2024-05-30T10:29:15.147687",
          "exception": false,
          "start_time": "2024-05-30T10:29:15.125345",
          "status": "completed"
        },
        "tags": [],
        "id": "18b186ac"
      },
      "outputs": [],
      "source": [
        "# Calculating n as 80% of the length of x_train\n",
        "n = int(len(x_train) * 0.8)"
      ]
    },
    {
      "cell_type": "code",
      "execution_count": null,
      "id": "6d05d2cc",
      "metadata": {
        "execution": {
          "iopub.execute_input": "2024-05-30T10:29:15.171544Z",
          "iopub.status.busy": "2024-05-30T10:29:15.171171Z",
          "iopub.status.idle": "2024-05-30T10:29:15.177077Z",
          "shell.execute_reply": "2024-05-30T10:29:15.175955Z"
        },
        "papermill": {
          "duration": 0.02079,
          "end_time": "2024-05-30T10:29:15.179515",
          "exception": false,
          "start_time": "2024-05-30T10:29:15.158725",
          "status": "completed"
        },
        "tags": [],
        "id": "6d05d2cc"
      },
      "outputs": [],
      "source": [
        "# Splitting x_train and y_train into two parts based on the value of n\n",
        "x_train_fit, x_train_eval, y_train_fit, y_train_eval = x_train[:n], x_train[n:], y_train[:n], y_train[n:]"
      ]
    },
    {
      "cell_type": "code",
      "execution_count": null,
      "id": "c89b5792",
      "metadata": {
        "execution": {
          "iopub.execute_input": "2024-05-30T10:29:15.203231Z",
          "iopub.status.busy": "2024-05-30T10:29:15.202767Z",
          "iopub.status.idle": "2024-05-30T10:29:15.982844Z",
          "shell.execute_reply": "2024-05-30T10:29:15.981891Z"
        },
        "papermill": {
          "duration": 0.794402,
          "end_time": "2024-05-30T10:29:15.984960",
          "exception": false,
          "start_time": "2024-05-30T10:29:15.190558",
          "status": "completed"
        },
        "tags": [],
        "colab": {
          "base_uri": "https://localhost:8080/",
          "height": 1000
        },
        "id": "c89b5792",
        "outputId": "4ebc7b7a-26b6-43ce-cabd-79e9432ecc09"
      },
      "outputs": [
        {
          "output_type": "stream",
          "name": "stdout",
          "text": [
            "[0]\tvalidation_0-logloss:0.63382\n",
            "[1]\tvalidation_0-logloss:0.58312\n",
            "[2]\tvalidation_0-logloss:0.53887\n"
          ]
        },
        {
          "output_type": "stream",
          "name": "stderr",
          "text": [
            "/usr/local/lib/python3.10/dist-packages/xgboost/sklearn.py:889: UserWarning: `early_stopping_rounds` in `fit` method is deprecated for better compatibility with scikit-learn, use `early_stopping_rounds` in constructor or`set_params` instead.\n",
            "  warnings.warn(\n"
          ]
        },
        {
          "output_type": "stream",
          "name": "stdout",
          "text": [
            "[3]\tvalidation_0-logloss:0.49993\n",
            "[4]\tvalidation_0-logloss:0.47011\n",
            "[5]\tvalidation_0-logloss:0.43615\n",
            "[6]\tvalidation_0-logloss:0.40771\n",
            "[7]\tvalidation_0-logloss:0.38168\n",
            "[8]\tvalidation_0-logloss:0.35817\n",
            "[9]\tvalidation_0-logloss:0.33533\n",
            "[10]\tvalidation_0-logloss:0.31513\n",
            "[11]\tvalidation_0-logloss:0.29694\n",
            "[12]\tvalidation_0-logloss:0.28189\n",
            "[13]\tvalidation_0-logloss:0.26888\n",
            "[14]\tvalidation_0-logloss:0.25630\n",
            "[15]\tvalidation_0-logloss:0.24445\n",
            "[16]\tvalidation_0-logloss:0.23305\n",
            "[17]\tvalidation_0-logloss:0.22056\n",
            "[18]\tvalidation_0-logloss:0.20924\n",
            "[19]\tvalidation_0-logloss:0.20019\n",
            "[20]\tvalidation_0-logloss:0.19116\n",
            "[21]\tvalidation_0-logloss:0.18208\n",
            "[22]\tvalidation_0-logloss:0.17543\n",
            "[23]\tvalidation_0-logloss:0.16889\n",
            "[24]\tvalidation_0-logloss:0.16308\n",
            "[25]\tvalidation_0-logloss:0.15581\n",
            "[26]\tvalidation_0-logloss:0.15066\n",
            "[27]\tvalidation_0-logloss:0.14637\n",
            "[28]\tvalidation_0-logloss:0.14248\n",
            "[29]\tvalidation_0-logloss:0.13708\n",
            "[30]\tvalidation_0-logloss:0.13339\n",
            "[31]\tvalidation_0-logloss:0.12962\n",
            "[32]\tvalidation_0-logloss:0.12802\n",
            "[33]\tvalidation_0-logloss:0.12433\n",
            "[34]\tvalidation_0-logloss:0.12137\n",
            "[35]\tvalidation_0-logloss:0.11861\n",
            "[36]\tvalidation_0-logloss:0.11493\n",
            "[37]\tvalidation_0-logloss:0.11230\n",
            "[38]\tvalidation_0-logloss:0.11120\n",
            "[39]\tvalidation_0-logloss:0.10861\n",
            "[40]\tvalidation_0-logloss:0.10658\n",
            "[41]\tvalidation_0-logloss:0.10468\n",
            "[42]\tvalidation_0-logloss:0.10320\n",
            "[43]\tvalidation_0-logloss:0.10070\n",
            "[44]\tvalidation_0-logloss:0.09881\n",
            "[45]\tvalidation_0-logloss:0.09746\n",
            "[46]\tvalidation_0-logloss:0.09624\n",
            "[47]\tvalidation_0-logloss:0.09469\n",
            "[48]\tvalidation_0-logloss:0.09303\n",
            "[49]\tvalidation_0-logloss:0.09101\n",
            "[50]\tvalidation_0-logloss:0.08966\n",
            "[51]\tvalidation_0-logloss:0.08922\n",
            "[52]\tvalidation_0-logloss:0.08840\n",
            "[53]\tvalidation_0-logloss:0.08671\n",
            "[54]\tvalidation_0-logloss:0.08564\n",
            "[55]\tvalidation_0-logloss:0.08472\n",
            "[56]\tvalidation_0-logloss:0.08396\n",
            "[57]\tvalidation_0-logloss:0.08328\n",
            "[58]\tvalidation_0-logloss:0.08238\n",
            "[59]\tvalidation_0-logloss:0.08141\n",
            "[60]\tvalidation_0-logloss:0.08086\n",
            "[61]\tvalidation_0-logloss:0.08006\n",
            "[62]\tvalidation_0-logloss:0.07914\n",
            "[63]\tvalidation_0-logloss:0.07807\n",
            "[64]\tvalidation_0-logloss:0.07737\n",
            "[65]\tvalidation_0-logloss:0.07706\n",
            "[66]\tvalidation_0-logloss:0.07691\n",
            "[67]\tvalidation_0-logloss:0.07673\n",
            "[68]\tvalidation_0-logloss:0.07573\n",
            "[69]\tvalidation_0-logloss:0.07497\n",
            "[70]\tvalidation_0-logloss:0.07438\n",
            "[71]\tvalidation_0-logloss:0.07385\n",
            "[72]\tvalidation_0-logloss:0.07353\n",
            "[73]\tvalidation_0-logloss:0.07321\n",
            "[74]\tvalidation_0-logloss:0.07315\n",
            "[75]\tvalidation_0-logloss:0.07253\n",
            "[76]\tvalidation_0-logloss:0.07235\n",
            "[77]\tvalidation_0-logloss:0.07215\n",
            "[78]\tvalidation_0-logloss:0.07136\n",
            "[79]\tvalidation_0-logloss:0.07031\n",
            "[80]\tvalidation_0-logloss:0.06985\n",
            "[81]\tvalidation_0-logloss:0.06947\n",
            "[82]\tvalidation_0-logloss:0.06912\n",
            "[83]\tvalidation_0-logloss:0.06901\n",
            "[84]\tvalidation_0-logloss:0.06875\n",
            "[85]\tvalidation_0-logloss:0.06802\n",
            "[86]\tvalidation_0-logloss:0.06796\n",
            "[87]\tvalidation_0-logloss:0.06744\n",
            "[88]\tvalidation_0-logloss:0.06675\n",
            "[89]\tvalidation_0-logloss:0.06675\n",
            "[90]\tvalidation_0-logloss:0.06665\n",
            "[91]\tvalidation_0-logloss:0.06653\n",
            "[92]\tvalidation_0-logloss:0.06607\n",
            "[93]\tvalidation_0-logloss:0.06567\n",
            "[94]\tvalidation_0-logloss:0.06599\n",
            "[95]\tvalidation_0-logloss:0.06540\n",
            "[96]\tvalidation_0-logloss:0.06503\n",
            "[97]\tvalidation_0-logloss:0.06487\n",
            "[98]\tvalidation_0-logloss:0.06462\n",
            "[99]\tvalidation_0-logloss:0.06454\n",
            "[100]\tvalidation_0-logloss:0.06459\n",
            "[101]\tvalidation_0-logloss:0.06443\n",
            "[102]\tvalidation_0-logloss:0.06388\n",
            "[103]\tvalidation_0-logloss:0.06370\n",
            "[104]\tvalidation_0-logloss:0.06348\n",
            "[105]\tvalidation_0-logloss:0.06327\n",
            "[106]\tvalidation_0-logloss:0.06310\n",
            "[107]\tvalidation_0-logloss:0.06271\n",
            "[108]\tvalidation_0-logloss:0.06263\n",
            "[109]\tvalidation_0-logloss:0.06260\n",
            "[110]\tvalidation_0-logloss:0.06228\n",
            "[111]\tvalidation_0-logloss:0.06213\n",
            "[112]\tvalidation_0-logloss:0.06180\n",
            "[113]\tvalidation_0-logloss:0.06179\n",
            "[114]\tvalidation_0-logloss:0.06149\n",
            "[115]\tvalidation_0-logloss:0.06104\n",
            "[116]\tvalidation_0-logloss:0.06055\n",
            "[117]\tvalidation_0-logloss:0.06073\n",
            "[118]\tvalidation_0-logloss:0.06073\n",
            "[119]\tvalidation_0-logloss:0.06072\n",
            "[120]\tvalidation_0-logloss:0.06045\n",
            "[121]\tvalidation_0-logloss:0.06032\n",
            "[122]\tvalidation_0-logloss:0.06034\n",
            "[123]\tvalidation_0-logloss:0.06050\n",
            "[124]\tvalidation_0-logloss:0.06019\n",
            "[125]\tvalidation_0-logloss:0.05996\n",
            "[126]\tvalidation_0-logloss:0.06012\n",
            "[127]\tvalidation_0-logloss:0.05989\n",
            "[128]\tvalidation_0-logloss:0.05991\n",
            "[129]\tvalidation_0-logloss:0.05962\n",
            "[130]\tvalidation_0-logloss:0.05965\n",
            "[131]\tvalidation_0-logloss:0.05907\n",
            "[132]\tvalidation_0-logloss:0.05903\n",
            "[133]\tvalidation_0-logloss:0.05913\n",
            "[134]\tvalidation_0-logloss:0.05874\n",
            "[135]\tvalidation_0-logloss:0.05877\n",
            "[136]\tvalidation_0-logloss:0.05870\n",
            "[137]\tvalidation_0-logloss:0.05835\n",
            "[138]\tvalidation_0-logloss:0.05800\n",
            "[139]\tvalidation_0-logloss:0.05761\n",
            "[140]\tvalidation_0-logloss:0.05761\n",
            "[141]\tvalidation_0-logloss:0.05734\n",
            "[142]\tvalidation_0-logloss:0.05717\n",
            "[143]\tvalidation_0-logloss:0.05707\n",
            "[144]\tvalidation_0-logloss:0.05700\n",
            "[145]\tvalidation_0-logloss:0.05713\n",
            "[146]\tvalidation_0-logloss:0.05704\n",
            "[147]\tvalidation_0-logloss:0.05675\n",
            "[148]\tvalidation_0-logloss:0.05681\n",
            "[149]\tvalidation_0-logloss:0.05670\n",
            "[150]\tvalidation_0-logloss:0.05673\n",
            "[151]\tvalidation_0-logloss:0.05671\n",
            "[152]\tvalidation_0-logloss:0.05658\n",
            "[153]\tvalidation_0-logloss:0.05645\n",
            "[154]\tvalidation_0-logloss:0.05634\n",
            "[155]\tvalidation_0-logloss:0.05632\n",
            "[156]\tvalidation_0-logloss:0.05639\n",
            "[157]\tvalidation_0-logloss:0.05625\n",
            "[158]\tvalidation_0-logloss:0.05591\n",
            "[159]\tvalidation_0-logloss:0.05605\n",
            "[160]\tvalidation_0-logloss:0.05600\n",
            "[161]\tvalidation_0-logloss:0.05604\n",
            "[162]\tvalidation_0-logloss:0.05601\n",
            "[163]\tvalidation_0-logloss:0.05589\n",
            "[164]\tvalidation_0-logloss:0.05583\n",
            "[165]\tvalidation_0-logloss:0.05588\n",
            "[166]\tvalidation_0-logloss:0.05591\n",
            "[167]\tvalidation_0-logloss:0.05576\n",
            "[168]\tvalidation_0-logloss:0.05576\n",
            "[169]\tvalidation_0-logloss:0.05558\n",
            "[170]\tvalidation_0-logloss:0.05562\n",
            "[171]\tvalidation_0-logloss:0.05570\n",
            "[172]\tvalidation_0-logloss:0.05576\n",
            "[173]\tvalidation_0-logloss:0.05582\n",
            "[174]\tvalidation_0-logloss:0.05588\n",
            "[175]\tvalidation_0-logloss:0.05593\n",
            "[176]\tvalidation_0-logloss:0.05584\n",
            "[177]\tvalidation_0-logloss:0.05570\n",
            "[178]\tvalidation_0-logloss:0.05555\n",
            "[179]\tvalidation_0-logloss:0.05536\n",
            "[180]\tvalidation_0-logloss:0.05536\n",
            "[181]\tvalidation_0-logloss:0.05528\n",
            "[182]\tvalidation_0-logloss:0.05536\n",
            "[183]\tvalidation_0-logloss:0.05521\n",
            "[184]\tvalidation_0-logloss:0.05498\n",
            "[185]\tvalidation_0-logloss:0.05499\n",
            "[186]\tvalidation_0-logloss:0.05520\n",
            "[187]\tvalidation_0-logloss:0.05533\n",
            "[188]\tvalidation_0-logloss:0.05531\n",
            "[189]\tvalidation_0-logloss:0.05503\n",
            "[190]\tvalidation_0-logloss:0.05491\n",
            "[191]\tvalidation_0-logloss:0.05505\n",
            "[192]\tvalidation_0-logloss:0.05490\n",
            "[193]\tvalidation_0-logloss:0.05488\n",
            "[194]\tvalidation_0-logloss:0.05467\n",
            "[195]\tvalidation_0-logloss:0.05475\n",
            "[196]\tvalidation_0-logloss:0.05477\n",
            "[197]\tvalidation_0-logloss:0.05481\n",
            "[198]\tvalidation_0-logloss:0.05461\n",
            "[199]\tvalidation_0-logloss:0.05460\n",
            "[200]\tvalidation_0-logloss:0.05457\n",
            "[201]\tvalidation_0-logloss:0.05470\n",
            "[202]\tvalidation_0-logloss:0.05478\n",
            "[203]\tvalidation_0-logloss:0.05467\n",
            "[204]\tvalidation_0-logloss:0.05442\n",
            "[205]\tvalidation_0-logloss:0.05428\n",
            "[206]\tvalidation_0-logloss:0.05436\n",
            "[207]\tvalidation_0-logloss:0.05439\n",
            "[208]\tvalidation_0-logloss:0.05429\n",
            "[209]\tvalidation_0-logloss:0.05447\n",
            "[210]\tvalidation_0-logloss:0.05433\n",
            "[211]\tvalidation_0-logloss:0.05429\n",
            "[212]\tvalidation_0-logloss:0.05409\n",
            "[213]\tvalidation_0-logloss:0.05399\n",
            "[214]\tvalidation_0-logloss:0.05396\n",
            "[215]\tvalidation_0-logloss:0.05389\n",
            "[216]\tvalidation_0-logloss:0.05406\n",
            "[217]\tvalidation_0-logloss:0.05387\n",
            "[218]\tvalidation_0-logloss:0.05384\n",
            "[219]\tvalidation_0-logloss:0.05385\n",
            "[220]\tvalidation_0-logloss:0.05402\n",
            "[221]\tvalidation_0-logloss:0.05375\n",
            "[222]\tvalidation_0-logloss:0.05391\n",
            "[223]\tvalidation_0-logloss:0.05376\n",
            "[224]\tvalidation_0-logloss:0.05356\n",
            "[225]\tvalidation_0-logloss:0.05347\n",
            "[226]\tvalidation_0-logloss:0.05355\n",
            "[227]\tvalidation_0-logloss:0.05340\n",
            "[228]\tvalidation_0-logloss:0.05340\n",
            "[229]\tvalidation_0-logloss:0.05326\n",
            "[230]\tvalidation_0-logloss:0.05307\n",
            "[231]\tvalidation_0-logloss:0.05288\n",
            "[232]\tvalidation_0-logloss:0.05300\n",
            "[233]\tvalidation_0-logloss:0.05287\n",
            "[234]\tvalidation_0-logloss:0.05264\n",
            "[235]\tvalidation_0-logloss:0.05270\n",
            "[236]\tvalidation_0-logloss:0.05258\n",
            "[237]\tvalidation_0-logloss:0.05258\n",
            "[238]\tvalidation_0-logloss:0.05259\n",
            "[239]\tvalidation_0-logloss:0.05243\n",
            "[240]\tvalidation_0-logloss:0.05231\n",
            "[241]\tvalidation_0-logloss:0.05228\n",
            "[242]\tvalidation_0-logloss:0.05218\n",
            "[243]\tvalidation_0-logloss:0.05204\n",
            "[244]\tvalidation_0-logloss:0.05194\n",
            "[245]\tvalidation_0-logloss:0.05184\n",
            "[246]\tvalidation_0-logloss:0.05170\n",
            "[247]\tvalidation_0-logloss:0.05177\n",
            "[248]\tvalidation_0-logloss:0.05156\n",
            "[249]\tvalidation_0-logloss:0.05147\n",
            "[250]\tvalidation_0-logloss:0.05156\n",
            "[251]\tvalidation_0-logloss:0.05174\n",
            "[252]\tvalidation_0-logloss:0.05189\n",
            "[253]\tvalidation_0-logloss:0.05180\n",
            "[254]\tvalidation_0-logloss:0.05181\n",
            "[255]\tvalidation_0-logloss:0.05196\n",
            "[256]\tvalidation_0-logloss:0.05210\n",
            "[257]\tvalidation_0-logloss:0.05228\n",
            "[258]\tvalidation_0-logloss:0.05229\n",
            "[259]\tvalidation_0-logloss:0.05238\n"
          ]
        },
        {
          "output_type": "execute_result",
          "data": {
            "text/plain": [
              "XGBClassifier(base_score=None, booster=None, callbacks=None,\n",
              "              colsample_bylevel=None, colsample_bynode=None,\n",
              "              colsample_bytree=None, device=None, early_stopping_rounds=None,\n",
              "              enable_categorical=False, eval_metric=None, feature_types=None,\n",
              "              gamma=None, grow_policy=None, importance_type=None,\n",
              "              interaction_constraints=None, learning_rate=0.1, max_bin=None,\n",
              "              max_cat_threshold=None, max_cat_to_onehot=None,\n",
              "              max_delta_step=None, max_depth=None, max_leaves=None,\n",
              "              min_child_weight=None, missing=nan, monotone_constraints=None,\n",
              "              multi_strategy=None, n_estimators=500, n_jobs=None,\n",
              "              num_parallel_tree=None, random_state=55, ...)"
            ],
            "text/html": [
              "<style>#sk-container-id-1 {color: black;background-color: white;}#sk-container-id-1 pre{padding: 0;}#sk-container-id-1 div.sk-toggleable {background-color: white;}#sk-container-id-1 label.sk-toggleable__label {cursor: pointer;display: block;width: 100%;margin-bottom: 0;padding: 0.3em;box-sizing: border-box;text-align: center;}#sk-container-id-1 label.sk-toggleable__label-arrow:before {content: \"▸\";float: left;margin-right: 0.25em;color: #696969;}#sk-container-id-1 label.sk-toggleable__label-arrow:hover:before {color: black;}#sk-container-id-1 div.sk-estimator:hover label.sk-toggleable__label-arrow:before {color: black;}#sk-container-id-1 div.sk-toggleable__content {max-height: 0;max-width: 0;overflow: hidden;text-align: left;background-color: #f0f8ff;}#sk-container-id-1 div.sk-toggleable__content pre {margin: 0.2em;color: black;border-radius: 0.25em;background-color: #f0f8ff;}#sk-container-id-1 input.sk-toggleable__control:checked~div.sk-toggleable__content {max-height: 200px;max-width: 100%;overflow: auto;}#sk-container-id-1 input.sk-toggleable__control:checked~label.sk-toggleable__label-arrow:before {content: \"▾\";}#sk-container-id-1 div.sk-estimator input.sk-toggleable__control:checked~label.sk-toggleable__label {background-color: #d4ebff;}#sk-container-id-1 div.sk-label input.sk-toggleable__control:checked~label.sk-toggleable__label {background-color: #d4ebff;}#sk-container-id-1 input.sk-hidden--visually {border: 0;clip: rect(1px 1px 1px 1px);clip: rect(1px, 1px, 1px, 1px);height: 1px;margin: -1px;overflow: hidden;padding: 0;position: absolute;width: 1px;}#sk-container-id-1 div.sk-estimator {font-family: monospace;background-color: #f0f8ff;border: 1px dotted black;border-radius: 0.25em;box-sizing: border-box;margin-bottom: 0.5em;}#sk-container-id-1 div.sk-estimator:hover {background-color: #d4ebff;}#sk-container-id-1 div.sk-parallel-item::after {content: \"\";width: 100%;border-bottom: 1px solid gray;flex-grow: 1;}#sk-container-id-1 div.sk-label:hover label.sk-toggleable__label {background-color: #d4ebff;}#sk-container-id-1 div.sk-serial::before {content: \"\";position: absolute;border-left: 1px solid gray;box-sizing: border-box;top: 0;bottom: 0;left: 50%;z-index: 0;}#sk-container-id-1 div.sk-serial {display: flex;flex-direction: column;align-items: center;background-color: white;padding-right: 0.2em;padding-left: 0.2em;position: relative;}#sk-container-id-1 div.sk-item {position: relative;z-index: 1;}#sk-container-id-1 div.sk-parallel {display: flex;align-items: stretch;justify-content: center;background-color: white;position: relative;}#sk-container-id-1 div.sk-item::before, #sk-container-id-1 div.sk-parallel-item::before {content: \"\";position: absolute;border-left: 1px solid gray;box-sizing: border-box;top: 0;bottom: 0;left: 50%;z-index: -1;}#sk-container-id-1 div.sk-parallel-item {display: flex;flex-direction: column;z-index: 1;position: relative;background-color: white;}#sk-container-id-1 div.sk-parallel-item:first-child::after {align-self: flex-end;width: 50%;}#sk-container-id-1 div.sk-parallel-item:last-child::after {align-self: flex-start;width: 50%;}#sk-container-id-1 div.sk-parallel-item:only-child::after {width: 0;}#sk-container-id-1 div.sk-dashed-wrapped {border: 1px dashed gray;margin: 0 0.4em 0.5em 0.4em;box-sizing: border-box;padding-bottom: 0.4em;background-color: white;}#sk-container-id-1 div.sk-label label {font-family: monospace;font-weight: bold;display: inline-block;line-height: 1.2em;}#sk-container-id-1 div.sk-label-container {text-align: center;}#sk-container-id-1 div.sk-container {/* jupyter's `normalize.less` sets `[hidden] { display: none; }` but bootstrap.min.css set `[hidden] { display: none !important; }` so we also need the `!important` here to be able to override the default hidden behavior on the sphinx rendered scikit-learn.org. See: https://github.com/scikit-learn/scikit-learn/issues/21755 */display: inline-block !important;position: relative;}#sk-container-id-1 div.sk-text-repr-fallback {display: none;}</style><div id=\"sk-container-id-1\" class=\"sk-top-container\"><div class=\"sk-text-repr-fallback\"><pre>XGBClassifier(base_score=None, booster=None, callbacks=None,\n",
              "              colsample_bylevel=None, colsample_bynode=None,\n",
              "              colsample_bytree=None, device=None, early_stopping_rounds=None,\n",
              "              enable_categorical=False, eval_metric=None, feature_types=None,\n",
              "              gamma=None, grow_policy=None, importance_type=None,\n",
              "              interaction_constraints=None, learning_rate=0.1, max_bin=None,\n",
              "              max_cat_threshold=None, max_cat_to_onehot=None,\n",
              "              max_delta_step=None, max_depth=None, max_leaves=None,\n",
              "              min_child_weight=None, missing=nan, monotone_constraints=None,\n",
              "              multi_strategy=None, n_estimators=500, n_jobs=None,\n",
              "              num_parallel_tree=None, random_state=55, ...)</pre><b>In a Jupyter environment, please rerun this cell to show the HTML representation or trust the notebook. <br />On GitHub, the HTML representation is unable to render, please try loading this page with nbviewer.org.</b></div><div class=\"sk-container\" hidden><div class=\"sk-item\"><div class=\"sk-estimator sk-toggleable\"><input class=\"sk-toggleable__control sk-hidden--visually\" id=\"sk-estimator-id-1\" type=\"checkbox\" checked><label for=\"sk-estimator-id-1\" class=\"sk-toggleable__label sk-toggleable__label-arrow\">XGBClassifier</label><div class=\"sk-toggleable__content\"><pre>XGBClassifier(base_score=None, booster=None, callbacks=None,\n",
              "              colsample_bylevel=None, colsample_bynode=None,\n",
              "              colsample_bytree=None, device=None, early_stopping_rounds=None,\n",
              "              enable_categorical=False, eval_metric=None, feature_types=None,\n",
              "              gamma=None, grow_policy=None, importance_type=None,\n",
              "              interaction_constraints=None, learning_rate=0.1, max_bin=None,\n",
              "              max_cat_threshold=None, max_cat_to_onehot=None,\n",
              "              max_delta_step=None, max_depth=None, max_leaves=None,\n",
              "              min_child_weight=None, missing=nan, monotone_constraints=None,\n",
              "              multi_strategy=None, n_estimators=500, n_jobs=None,\n",
              "              num_parallel_tree=None, random_state=55, ...)</pre></div></div></div></div></div>"
            ]
          },
          "metadata": {},
          "execution_count": 25
        }
      ],
      "source": [
        "from xgboost import XGBClassifier  # Importing XGBClassifier from xgboost\n",
        "\n",
        "# Creating an XGBClassifier model with specified parameters\n",
        "xgb_model = XGBClassifier(n_estimators=500, learning_rate=0.1, verbosity=1, random_state=55)\n",
        "\n",
        "# Fitting the XGBClassifier model on the training data (x_train_fit and y_train_fit)\n",
        "# and evaluating its performance on the evaluation set (x_train_eval and y_train_eval)\n",
        "# using early stopping with a patience of 10 rounds\n",
        "xgb_model.fit(x_train_fit, y_train_fit, eval_set=[(x_train_eval, y_train_eval)], early_stopping_rounds=10)"
      ]
    },
    {
      "cell_type": "code",
      "execution_count": null,
      "id": "19e9172c",
      "metadata": {
        "execution": {
          "iopub.execute_input": "2024-05-30T10:29:16.024920Z",
          "iopub.status.busy": "2024-05-30T10:29:16.023494Z",
          "iopub.status.idle": "2024-05-30T10:29:16.031537Z",
          "shell.execute_reply": "2024-05-30T10:29:16.030214Z"
        },
        "papermill": {
          "duration": 0.03057,
          "end_time": "2024-05-30T10:29:16.033951",
          "exception": false,
          "start_time": "2024-05-30T10:29:16.003381",
          "status": "completed"
        },
        "tags": [],
        "colab": {
          "base_uri": "https://localhost:8080/"
        },
        "id": "19e9172c",
        "outputId": "5ab13725-613a-40ac-ce01-e8b17ee2599c"
      },
      "outputs": [
        {
          "output_type": "stream",
          "name": "stdout",
          "text": [
            "Best iteration: 249\n"
          ]
        }
      ],
      "source": [
        "best_iteration = xgb_model.best_iteration\n",
        "print(f\"Best iteration: {best_iteration}\")"
      ]
    },
    {
      "cell_type": "code",
      "execution_count": null,
      "id": "2f5b3414",
      "metadata": {
        "execution": {
          "iopub.execute_input": "2024-05-30T10:29:16.074832Z",
          "iopub.status.busy": "2024-05-30T10:29:16.073893Z",
          "iopub.status.idle": "2024-05-30T10:29:16.090105Z",
          "shell.execute_reply": "2024-05-30T10:29:16.089129Z"
        },
        "papermill": {
          "duration": 0.03932,
          "end_time": "2024-05-30T10:29:16.092702",
          "exception": false,
          "start_time": "2024-05-30T10:29:16.053382",
          "status": "completed"
        },
        "tags": [],
        "colab": {
          "base_uri": "https://localhost:8080/"
        },
        "id": "2f5b3414",
        "outputId": "63742ed1-8d8c-4d1a-d2ac-0fd5487dbb00"
      },
      "outputs": [
        {
          "output_type": "stream",
          "name": "stdout",
          "text": [
            "Train Accuracy: 0.9975609756097561\n"
          ]
        }
      ],
      "source": [
        "# Calculate and print the training accuracy\n",
        "train_accuracy = accuracy_score(xgb_model.predict(x_train), y_train)\n",
        "print(f\"Train Accuracy: {train_accuracy}\")"
      ]
    },
    {
      "cell_type": "code",
      "execution_count": null,
      "id": "e59900ce",
      "metadata": {
        "execution": {
          "iopub.execute_input": "2024-05-30T10:29:16.132547Z",
          "iopub.status.busy": "2024-05-30T10:29:16.132171Z",
          "iopub.status.idle": "2024-05-30T10:29:16.148519Z",
          "shell.execute_reply": "2024-05-30T10:29:16.147312Z"
        },
        "papermill": {
          "duration": 0.039173,
          "end_time": "2024-05-30T10:29:16.151053",
          "exception": false,
          "start_time": "2024-05-30T10:29:16.111880",
          "status": "completed"
        },
        "tags": [],
        "colab": {
          "base_uri": "https://localhost:8080/"
        },
        "id": "e59900ce",
        "outputId": "dd86eac5-d650-4d65-83c1-3897fe6a80c2"
      },
      "outputs": [
        {
          "output_type": "stream",
          "name": "stdout",
          "text": [
            "Test accuracy: 0.9804878048780488\n"
          ]
        }
      ],
      "source": [
        "# Calculate and print the test accuracy\n",
        "test_accuracy = accuracy_score(xgb_model.predict(x_val), y_val)\n",
        "print(f\"Test accuracy: {test_accuracy}\")"
      ]
    },
    {
      "cell_type": "markdown",
      "source": [
        "## Heart Disease Prediction Model Analysis\n",
        "\n",
        "### Dataset Extraction and Preparation\n",
        "\n",
        "- **Dataset**: Downloaded from Kaggle using the API.\n",
        "- **Preprocessing**: Included handling missing values, encoding categorical variables, and splitting into training and testing sets.\n",
        "\n",
        "### Models Built\n",
        "\n",
        "1. **Decision Tree**\n",
        "   - **Parameters**: `min_split=30`, `max_depth=8`\n",
        "   - **Characteristics**: Simple, interpretable, but may not capture complex relationships.\n",
        "\n",
        "2. **Random Forest**\n",
        "   - **Parameter**: `min_samples_split=10`\n",
        "   - **Characteristics**: Uses multiple decision trees to improve accuracy and control overfitting.\n",
        "\n",
        "3. **XGBoost**\n",
        "   - **Characteristics**: Known for high performance and efficiency with large datasets and complex interactions.\n",
        "\n",
        "### Performance and Comparison\n",
        "\n",
        "- **Decision Tree**\n",
        "  - Simple and interpretable.\n",
        "  - May not capture complex relationships as effectively.\n",
        "  \n",
        "- **Random Forest**\n",
        "  - Better generalization and robustness.\n",
        "  - Ensemble method reduces overfitting.\n",
        "  \n",
        "- **XGBoost**\n",
        "  - Typically offers the best performance, especially when properly tuned.\n",
        "  - Highly efficient for structured data.\n",
        "\n",
        "## Key Result\n",
        "\n",
        "- **Reported Accuracy**: 99.7%\n",
        "  - Indicates excellent model fitting.\n",
        "  - High accuracy suggests the need for careful validation to ensure no overfitting.\n",
        "\n",
        "## Conclusion\n",
        "\n",
        "The models demonstrate strong performance with XGBoost likely being the top performer due to its advanced algorithms and efficiency. The high reported accuracy should be validated with cross-validation or a hold-out test set to confirm the model's generalizability and to rule out overfitting."
      ],
      "metadata": {
        "id": "wSRnSXZy4nov"
      },
      "id": "wSRnSXZy4nov"
    }
  ],
  "metadata": {
    "kaggle": {
      "accelerator": "none",
      "dataSources": [
        {
          "datasetId": 216167,
          "sourceId": 477177,
          "sourceType": "datasetVersion"
        }
      ],
      "dockerImageVersionId": 30698,
      "isGpuEnabled": false,
      "isInternetEnabled": true,
      "language": "python",
      "sourceType": "notebook"
    },
    "kernelspec": {
      "display_name": "Python 3",
      "name": "python3"
    },
    "language_info": {
      "codemirror_mode": {
        "name": "ipython",
        "version": 3
      },
      "file_extension": ".py",
      "mimetype": "text/x-python",
      "name": "python",
      "nbconvert_exporter": "python",
      "pygments_lexer": "ipython3",
      "version": "3.10.13"
    },
    "papermill": {
      "default_parameters": {},
      "duration": 13.918445,
      "end_time": "2024-05-30T10:29:16.830447",
      "environment_variables": {},
      "exception": null,
      "input_path": "__notebook__.ipynb",
      "output_path": "__notebook__.ipynb",
      "parameters": {},
      "start_time": "2024-05-30T10:29:02.912002",
      "version": "2.5.0"
    },
    "colab": {
      "provenance": [],
      "gpuType": "T4",
      "include_colab_link": true
    },
    "accelerator": "GPU"
  },
  "nbformat": 4,
  "nbformat_minor": 5
}